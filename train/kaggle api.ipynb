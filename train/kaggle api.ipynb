{
 "cells": [
  {
   "cell_type": "code",
   "execution_count": 1,
   "metadata": {},
   "outputs": [
    {
     "name": "stdout",
     "output_type": "stream",
     "text": [
      "Collecting kaggle\n",
      "  Downloading kaggle-1.5.12.tar.gz (58 kB)\n",
      "\u001b[K     |████████████████████████████████| 58 kB 3.5 MB/s eta 0:00:011\n",
      "\u001b[?25hRequirement already satisfied: six>=1.10 in ./.conda/envs/default/lib/python3.9/site-packages (from kaggle) (1.16.0)\n",
      "Collecting certifi\n",
      "  Downloading certifi-2022.12.7-py3-none-any.whl (155 kB)\n",
      "\u001b[K     |████████████████████████████████| 155 kB 24.5 MB/s eta 0:00:01\n",
      "\u001b[?25hRequirement already satisfied: python-dateutil in ./.conda/envs/default/lib/python3.9/site-packages (from kaggle) (2.8.2)\n",
      "Collecting requests\n",
      "  Downloading requests-2.28.2-py3-none-any.whl (62 kB)\n",
      "\u001b[K     |████████████████████████████████| 62 kB 2.5 MB/s  eta 0:00:01\n",
      "\u001b[?25hCollecting tqdm\n",
      "  Downloading tqdm-4.64.1-py2.py3-none-any.whl (78 kB)\n",
      "\u001b[K     |████████████████████████████████| 78 kB 9.3 MB/s  eta 0:00:01\n",
      "\u001b[?25hCollecting python-slugify\n",
      "  Downloading python_slugify-7.0.0-py2.py3-none-any.whl (9.4 kB)\n",
      "Requirement already satisfied: urllib3 in ./.conda/envs/default/lib/python3.9/site-packages (from kaggle) (1.26.13)\n",
      "Collecting text-unidecode>=1.3\n",
      "  Downloading text_unidecode-1.3-py2.py3-none-any.whl (78 kB)\n",
      "\u001b[K     |████████████████████████████████| 78 kB 5.9 MB/s  eta 0:00:01\n",
      "\u001b[?25hCollecting charset-normalizer<4,>=2\n",
      "  Downloading charset_normalizer-3.0.1-cp39-cp39-manylinux_2_17_x86_64.manylinux2014_x86_64.whl (198 kB)\n",
      "\u001b[K     |████████████████████████████████| 198 kB 32.7 MB/s eta 0:00:01\n",
      "\u001b[?25hRequirement already satisfied: idna<4,>=2.5 in ./.conda/envs/default/lib/python3.9/site-packages (from requests->kaggle) (3.4)\n",
      "Building wheels for collected packages: kaggle\n",
      "  Building wheel for kaggle (setup.py) ... \u001b[?25ldone\n",
      "\u001b[?25h  Created wheel for kaggle: filename=kaggle-1.5.12-py3-none-any.whl size=73031 sha256=a93e50b08184ef06d488594a06d7e44fcca967ecf32d86396d4d818c0249c0e0\n",
      "  Stored in directory: /home/studio-lab-user/.cache/pip/wheels/ac/b2/c3/fa4706d469b5879105991d1c8be9a3c2ef329ba9fe2ce5085e\n",
      "Successfully built kaggle\n",
      "Installing collected packages: text-unidecode, charset-normalizer, certifi, tqdm, requests, python-slugify, kaggle\n",
      "Successfully installed certifi-2022.12.7 charset-normalizer-3.0.1 kaggle-1.5.12 python-slugify-7.0.0 requests-2.28.2 text-unidecode-1.3 tqdm-4.64.1\n"
     ]
    }
   ],
   "source": [
    "!pip install kaggle"
   ]
  },
  {
   "cell_type": "code",
   "execution_count": 3,
   "metadata": {},
   "outputs": [
    {
     "name": "stdout",
     "output_type": "stream",
     "text": [
      "Traceback (most recent call last):\n",
      "  File \"/home/studio-lab-user/.conda/envs/default/bin/kaggle\", line 5, in <module>\n",
      "    from kaggle.cli import main\n",
      "  File \"/home/studio-lab-user/.conda/envs/default/lib/python3.9/site-packages/kaggle/__init__.py\", line 23, in <module>\n",
      "    api.authenticate()\n",
      "  File \"/home/studio-lab-user/.conda/envs/default/lib/python3.9/site-packages/kaggle/api/kaggle_api_extended.py\", line 164, in authenticate\n",
      "    raise IOError('Could not find {}. Make sure it\\'s located in'\n",
      "OSError: Could not find kaggle.json. Make sure it's located in /home/studio-lab-user/.kaggle. Or use the environment method.\n"
     ]
    }
   ],
   "source": [
    "!kaggle datasets download -d ahmedbenomar/street-imagery"
   ]
  },
  {
   "cell_type": "code",
   "execution_count": 10,
   "metadata": {},
   "outputs": [
    {
     "name": "stdout",
     "output_type": "stream",
     "text": [
      "['kaggle.json']\n"
     ]
    }
   ],
   "source": [
    "import os\n",
    "\n",
    "def connect_with_kaggle(kggle_user, kaggle_key):\n",
    "    # os.makedirs('/home/studio-lab-user/.kaggle') \n",
    "    my_api = '{\"username\":\"'+ kggle_user +'\",\"key\":\"'+ kaggle_key +'\"}'\n",
    "    with open('/home/studio-lab-user/.kaggle/kaggle.json', 'w') as f:\n",
    "        f.write(my_api)\n",
    "        f.close()\n",
    "    print(os.listdir('/home/studio-lab-user/.kaggle'))\n",
    "\n",
    "connect_with_kaggle(kggle_user='muhamadnady', kaggle_key='8d6855baa2605e0935f49671a94035fa')"
   ]
  },
  {
   "cell_type": "code",
   "execution_count": 11,
   "metadata": {},
   "outputs": [
    {
     "name": "stdout",
     "output_type": "stream",
     "text": [
      "Warning: Your Kaggle API key is readable by other users on this system! To fix this, you can run 'chmod 600 /home/studio-lab-user/.kaggle/kaggle.json'\n",
      "Downloading street-imagery.zip to /home/studio-lab-user\n",
      "100%|██████████████████████████████████████▉| 3.73G/3.73G [00:49<00:00, 114MB/s]\n",
      "100%|██████████████████████████████████████| 3.73G/3.73G [00:49<00:00, 80.6MB/s]\n"
     ]
    }
   ],
   "source": [
    "!kaggle datasets download -d ahmedbenomar/street-imagery"
   ]
  },
  {
   "cell_type": "code",
   "execution_count": null,
   "metadata": {},
   "outputs": [],
   "source": []
  }
 ],
 "metadata": {
  "kernelspec": {
   "display_name": "Python 3",
   "language": "python",
   "name": "python3"
  },
  "language_info": {
   "codemirror_mode": {
    "name": "ipython",
    "version": 3
   },
   "file_extension": ".py",
   "mimetype": "text/x-python",
   "name": "python",
   "nbconvert_exporter": "python",
   "pygments_lexer": "ipython3",
   "version": "3.8.6"
  }
 },
 "nbformat": 4,
 "nbformat_minor": 5
}
