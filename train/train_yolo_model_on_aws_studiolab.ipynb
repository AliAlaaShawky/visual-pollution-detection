{
 "cells": [
  {
   "cell_type": "markdown",
   "metadata": {},
   "source": [
    "## Running Yolo API on aws studio lab"
   ]
  },
  {
   "cell_type": "code",
   "execution_count": null,
   "metadata": {
    "_cell_guid": "b1076dfc-b9ad-4769-8c92-a6c4dae69d19",
    "_uuid": "8f2839f25d086af736a60e9eeb907d3b93b6e0e5"
   },
   "outputs": [],
   "source": [
    "## installing kaggle API\n",
    "!pip install kaggle"
   ]
  },
  {
   "cell_type": "code",
   "execution_count": null,
   "metadata": {},
   "outputs": [],
   "source": [
    "import os\n",
    "\n",
    "def connect_with_kaggle(kggle_user, kaggle_key):\n",
    "    # os.makedirs('/home/studio-lab-user/.kaggle') \n",
    "    my_api = '{\"username\":\"'+ kggle_user +'\",\"key\":\"'+ kaggle_key +'\"}'\n",
    "    with open('/home/studio-lab-user/.kaggle/kaggle.json', 'w') as f:\n",
    "        f.write(my_api)\n",
    "        f.close()\n",
    "    print(os.listdir('/home/studio-lab-user/.kaggle'))\n",
    "\n",
    "connect_with_kaggle(kggle_user='kggle_user', kaggle_key='kaggle_key')"
   ]
  },
  {
   "cell_type": "code",
   "execution_count": null,
   "metadata": {},
   "outputs": [],
   "source": [
    "!kaggle datasets download -d ahmedbenomar/street-imagery"
   ]
  },
  {
   "cell_type": "code",
   "execution_count": null,
   "metadata": {},
   "outputs": [],
   "source": [
    "! unzip -q street-imagery.zip dataset"
   ]
  },
  {
   "cell_type": "code",
   "execution_count": null,
   "metadata": {},
   "outputs": [],
   "source": [
    "data_yaml=\"\"\"path: ../dataset # dataset root dir\n",
    "train: train/images  # train images \n",
    "val: valid/images  # val images \n",
    "# test: test/images # test images (optional)\n",
    "\n",
    "names:\n",
    "  0: GRAFFITI\n",
    "  1: FADED_SIGNAGE\n",
    "  2: POTHOLES\n",
    "  3: GARBAGE\n",
    "  4: CONSTRUCTION_ROAD\n",
    "  5: BROKEN_SIGNAGE\n",
    "  6: BAD_STREETLIGHT\n",
    "  7: BAD_BILLBOARD\n",
    "  8: SAND_ON_ROAD\n",
    "  9: CLUTTER_SIDEWALK\n",
    "  10: UNKEPT_FACADE\n",
    "  \"\"\"\n",
    "hyp_data = \"\"\"\n",
    "lr0: 0.001  # initial learning rate (SGD=1E-2, Adam=1E-3)\n",
    "lrf: 0.1  # final OneCycleLR learning rate (lr0 * lrf)\n",
    "momentum: 0.937  # SGD momentum/Adam beta1\n",
    "weight_decay: 0.0005  # optimizer weight decay 5e-4\n",
    "warmup_epochs: 3.0  # warmup epochs (fractions ok)\n",
    "warmup_momentum: 0.8  # warmup initial momentum\n",
    "warmup_bias_lr: 0.1  # warmup initial bias lr\n",
    "box: 0.05  # box loss gain\n",
    "cls: 0.3  # cls loss gain\n",
    "cls_pw: 1.0  # cls BCELoss positive_weight\n",
    "obj: 0.7  # obj loss gain (scale with pixels)\n",
    "obj_pw: 1.0  # obj BCELoss positive_weight\n",
    "iou_t: 0.20  # IoU training threshold\n",
    "anchor_t: 4.0  # anchor-multiple threshold\n",
    "# anchors: 3  # anchors per output layer (0 to ignore)\n",
    "fl_gamma: 0.0  # focal loss gamma (efficientDet default gamma=1.5)\n",
    "hsv_h: 0.015  # image HSV-Hue augmentation (fraction)\n",
    "hsv_s: 0.7  # image HSV-Saturation augmentation (fraction)\n",
    "hsv_v: 0.4  # image HSV-Value augmentation (fraction)\n",
    "degrees: 0.0  # image rotation (+/- deg)\n",
    "translate: 0.1  # image translation (+/- fraction)\n",
    "scale: 0.5  # image scale (+/- gain)\n",
    "shear: 0.1  # image shear (+/- deg)\n",
    "perspective: 0.0  # image perspective (+/- fraction), range 0-0.001\n",
    "flipud: 0.0  # image flip up-down (probability)\n",
    "fliplr: 0.5  # image flip left-right (probability)\n",
    "mosaic: 0.8  # image mosaic (probability)\n",
    "mixup: 0.1  # image mixup (probability)\n",
    "copy_paste: 0.1  # segment copy-paste (probability)\n",
    "\"\"\""
   ]
  },
  {
   "cell_type": "code",
   "execution_count": null,
   "metadata": {},
   "outputs": [],
   "source": [
    "%cd /home/studio-lab-user/\n",
    "!git clone https://github.com/m7mdmosa27/yolov5.git  # clone\n",
    "%cd yolov5\n",
    "!pip install -qr requirements.txt  # install"
   ]
  },
  {
   "cell_type": "code",
   "execution_count": null,
   "metadata": {},
   "outputs": [],
   "source": [
    "with open('/home/studio-lab-user/yolov5/data/data.yaml','w') as f:\n",
    "    f.write(data_yaml)\n",
    "    f.close()\n",
    "with open('/home/studio-lab-user/yolov5/data/hyps/hyp-data.yaml','w') as f:\n",
    "    f.write(hyp_data)\n",
    "    f.close()\n",
    "# !cp /content/Constructions/data.yaml /content/yolov5/data/data.yaml"
   ]
  },
  {
   "cell_type": "code",
   "execution_count": null,
   "metadata": {},
   "outputs": [],
   "source": [
    "!python train.py --weights '' --cfg 'yolov5m6.yaml' \\\n",
    "--img 640 --hyp hyp-data.yaml --data data.yaml \\\n",
    "--epochs 2 --batch-size '-1' --optimizer Adam \\\n",
    "--project '/home/studio-lab-user/output/train'"
   ]
  },
  {
   "cell_type": "code",
   "execution_count": null,
   "metadata": {},
   "outputs": [],
   "source": [
    "## Resuming the jon\n",
    "!python train.py --resume /home/studio-lab-user/output/train/exp/weights/last.pt \\\n",
    "--project '/home/studio-lab-user/output/train/'"
   ]
  }
 ],
 "metadata": {
  "kernelspec": {
   "display_name": "Python 3",
   "language": "python",
   "name": "python3"
  },
  "language_info": {
   "codemirror_mode": {
    "name": "ipython",
    "version": 3
   },
   "file_extension": ".py",
   "mimetype": "text/x-python",
   "name": "python",
   "nbconvert_exporter": "python",
   "pygments_lexer": "ipython3",
   "version": "3.8.6"
  }
 },
 "nbformat": 4,
 "nbformat_minor": 4
}
